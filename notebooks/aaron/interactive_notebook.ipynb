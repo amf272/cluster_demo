{
 "cells": [
  {
   "cell_type": "code",
   "execution_count": 1,
   "metadata": {},
   "outputs": [],
   "source": [
    "# notebook boilerplate\n",
    "%load_ext autoreload\n",
    "%autoreload 2\n",
    "\n",
    "root_name = \"lab_meeting_demo\"\n",
    "\n",
    "# change directory to parent directory if currently in notebooks directory\n",
    "import os\n",
    "from pathlib import Path\n",
    "while Path.cwd().name != root_name:\n",
    "   os.chdir(Path.cwd().parent)\n"
   ]
  },
  {
   "cell_type": "code",
   "execution_count": null,
   "metadata": {},
   "outputs": [],
   "source": [
    "import beepseek.train"
   ]
  },
  {
   "cell_type": "code",
   "execution_count": 3,
   "metadata": {},
   "outputs": [
    {
     "name": "stdout",
     "output_type": "stream",
     "text": [
      "training latest beepseek model!\n",
      "training model with method=my_method and n_epochs=10\n",
      "done training model with method=my_method and n_epochs=10\n"
     ]
    }
   ],
   "source": [
    "beepseek.train.complicated_train_model(method=\"my_method\", n_epochs=10)"
   ]
  },
  {
   "cell_type": "code",
   "execution_count": null,
   "metadata": {},
   "outputs": [],
   "source": []
  }
 ],
 "metadata": {
  "kernelspec": {
   "display_name": "vllm",
   "language": "python",
   "name": "python3"
  },
  "language_info": {
   "codemirror_mode": {
    "name": "ipython",
    "version": 3
   },
   "file_extension": ".py",
   "mimetype": "text/x-python",
   "name": "python",
   "nbconvert_exporter": "python",
   "pygments_lexer": "ipython3",
   "version": "3.12.9"
  }
 },
 "nbformat": 4,
 "nbformat_minor": 2
}
